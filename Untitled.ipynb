{
 "cells": [
  {
   "cell_type": "code",
   "execution_count": 2,
   "metadata": {},
   "outputs": [],
   "source": [
    "import pandas as pd\n",
    "\n",
    "basic_file = \"data/basic_stats.csv\"\n",
    "opponent_basic_file = \"data/opp_basic_stats.csv\"\n",
    "advanced_file = \"data/advanced_stats.csv\"\n",
    "opp_advanced_file = \"data/opp_advanced_stats.csv\"\n",
    "basic_df = pd.read_csv(basic_file)\n",
    "opp_basic_df = pd.read_csv(opponent_basic_file)"
   ]
  },
  {
   "cell_type": "code",
   "execution_count": 3,
   "metadata": {},
   "outputs": [
    {
     "data": {
      "text/plain": [
       "Index(['Rk', 'School', 'G', 'W', 'L', 'W-L%', 'SRS', 'SOS', 'Unnamed: 8',\n",
       "       'W.1', 'L.1', 'Unnamed: 11', 'W.2', 'L.2', 'Unnamed: 14', 'W.3', 'L.3',\n",
       "       'Unnamed: 17', 'Tm.', 'Opp.', 'Unnamed: 20', 'MP', 'FG', 'FGA', 'FG%',\n",
       "       '3P', '3PA', '3P%', 'FT', 'FTA', 'FT%', 'ORB', 'TRB', 'AST', 'STL',\n",
       "       'BLK', 'TOV', 'PF'],\n",
       "      dtype='object')"
      ]
     },
     "execution_count": 3,
     "metadata": {},
     "output_type": "execute_result"
    }
   ],
   "source": [
    "opp_basic_df.columns"
   ]
  },
  {
   "cell_type": "code",
   "execution_count": 5,
   "metadata": {},
   "outputs": [],
   "source": [
    "drop_cols = [\"Unnamed: 8\", \"Unnamed: 11\",  \"Unnamed: 14\",  \"Unnamed: 17\", \"Unnamed: 20\", \"W.2\", \"L.2\", \"W.3\", \"L.3\"]\n",
    "rename_dict = {'W.1':\"conference W\", 'L.1':\"conference L\", \"Tm.\":\"Team Points\", \"Opp.\":\"Opponent Points\"}"
   ]
  },
  {
   "cell_type": "code",
   "execution_count": 6,
   "metadata": {},
   "outputs": [],
   "source": [
    "basic = basic_df.drop(columns=drop_cols, axis=1).rename(columns=rename_dict)\n",
    "opp_basic = opp_basic_df.drop(columns=drop_cols, axis=1).rename(columns=rename_dict)"
   ]
  },
  {
   "cell_type": "code",
   "execution_count": 7,
   "metadata": {},
   "outputs": [
    {
     "data": {
      "text/plain": [
       "Index(['Rk', 'School', 'G', 'W', 'L', 'W-L%', 'SRS', 'SOS', 'conference W',\n",
       "       'conference L', 'Team Points', 'Opponent Points', 'MP', 'FG', 'FGA',\n",
       "       'FG%', '3P', '3PA', '3P%', 'FT', 'FTA', 'FT%', 'ORB', 'TRB', 'AST',\n",
       "       'STL', 'BLK', 'TOV', 'PF'],\n",
       "      dtype='object')"
      ]
     },
     "execution_count": 7,
     "metadata": {},
     "output_type": "execute_result"
    }
   ],
   "source": []
  }
 ],
 "metadata": {
  "kernelspec": {
   "display_name": "Python 3",
   "language": "python",
   "name": "python3"
  },
  "language_info": {
   "codemirror_mode": {
    "name": "ipython",
    "version": 3
   },
   "file_extension": ".py",
   "mimetype": "text/x-python",
   "name": "python",
   "nbconvert_exporter": "python",
   "pygments_lexer": "ipython3",
   "version": "3.6.4"
  }
 },
 "nbformat": 4,
 "nbformat_minor": 2
}
