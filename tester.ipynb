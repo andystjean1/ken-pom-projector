{
 "metadata": {
  "language_info": {
   "codemirror_mode": {
    "name": "ipython",
    "version": 3
   },
   "file_extension": ".py",
   "mimetype": "text/x-python",
   "name": "python",
   "nbconvert_exporter": "python",
   "pygments_lexer": "ipython3",
   "version": "3.6.4-final"
  },
  "orig_nbformat": 2,
  "kernelspec": {
   "name": "python3",
   "display_name": "Python 3.6.4 64-bit",
   "metadata": {
    "interpreter": {
     "hash": "aee8b7b246df8f9039afb4144a1f6fd8d2ca17a180786b69acc140d282b71a49"
    }
   }
  }
 },
 "nbformat": 4,
 "nbformat_minor": 2,
 "cells": [
  {
   "cell_type": "code",
   "execution_count": 1,
   "metadata": {},
   "outputs": [],
   "source": [
    "from scraper import scrape_ken_pom"
   ]
  },
  {
   "cell_type": "code",
   "execution_count": 2,
   "metadata": {
    "tags": []
   },
   "outputs": [],
   "source": [
    "kenpom = scrape_ken_pom()"
   ]
  },
  {
   "cell_type": "code",
   "execution_count": 3,
   "metadata": {},
   "outputs": [
    {
     "output_type": "execute_result",
     "data": {
      "text/plain": [
       "    Rk              Team  Conf   W-L   AdjEM   AdjO  AdjD  AdjT   Luck  AdjEM  \\\n",
       "93  94  Western Kentucky  CUSA  20-7  +10.10  106.4  96.3  67.9  +.087  +3.13   \n",
       "\n",
       "     OppO  OppD  AdjEM  \n",
       "93  103.1  99.9  +9.86  "
      ],
      "text/html": "<div>\n<style scoped>\n    .dataframe tbody tr th:only-of-type {\n        vertical-align: middle;\n    }\n\n    .dataframe tbody tr th {\n        vertical-align: top;\n    }\n\n    .dataframe thead th {\n        text-align: right;\n    }\n</style>\n<table border=\"1\" class=\"dataframe\">\n  <thead>\n    <tr style=\"text-align: right;\">\n      <th></th>\n      <th>Rk</th>\n      <th>Team</th>\n      <th>Conf</th>\n      <th>W-L</th>\n      <th>AdjEM</th>\n      <th>AdjO</th>\n      <th>AdjD</th>\n      <th>AdjT</th>\n      <th>Luck</th>\n      <th>AdjEM</th>\n      <th>OppO</th>\n      <th>OppD</th>\n      <th>AdjEM</th>\n    </tr>\n  </thead>\n  <tbody>\n    <tr>\n      <th>93</th>\n      <td>94</td>\n      <td>Western Kentucky</td>\n      <td>CUSA</td>\n      <td>20-7</td>\n      <td>+10.10</td>\n      <td>106.4</td>\n      <td>96.3</td>\n      <td>67.9</td>\n      <td>+.087</td>\n      <td>+3.13</td>\n      <td>103.1</td>\n      <td>99.9</td>\n      <td>+9.86</td>\n    </tr>\n  </tbody>\n</table>\n</div>"
     },
     "metadata": {},
     "execution_count": 3
    }
   ],
   "source": [
    "kenpom[kenpom[\"Team\"] == \"Western Kentucky\"]"
   ]
  }
 ]
}