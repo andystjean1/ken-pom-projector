{
 "cells": [
  {
   "cell_type": "code",
   "execution_count": 36,
   "metadata": {},
   "outputs": [],
   "source": [
    "import pandas as pd\n",
    "from bs4 import BeautifulSoup\n",
    "import requests\n",
    "\n",
    "basic_file = \"data/basic_stats.csv\"\n",
    "opp_basic_file = \"data/opp_basic_stats.csv\"\n",
    "advanced_file = \"data/advanced_stats.csv\"\n",
    "opp_advanced_file = \"data/opp_advanced_stats.csv\""
   ]
  },
  {
   "cell_type": "code",
   "execution_count": 80,
   "metadata": {},
   "outputs": [
    {
     "data": {
      "text/plain": [
       "['Abilene Christian',\n",
       " 'Alabama',\n",
       " 'Appalachian State',\n",
       " 'Arkansas',\n",
       " 'Baylor',\n",
       " 'Brigham Young',\n",
       " 'UC-Santa Barbara',\n",
       " 'Clemson',\n",
       " 'Cleveland State',\n",
       " 'Colgate',\n",
       " 'Colorado',\n",
       " 'Connecticut',\n",
       " 'Creighton',\n",
       " 'Drake',\n",
       " 'Drexel',\n",
       " 'Eastern Washington',\n",
       " 'Florida State',\n",
       " 'Florida',\n",
       " 'Georgetown',\n",
       " 'Georgia Tech',\n",
       " 'Gonzaga',\n",
       " 'Grand Canyon',\n",
       " 'Hartford',\n",
       " 'Houston',\n",
       " 'Illinois',\n",
       " 'Iona',\n",
       " 'Iowa',\n",
       " 'Kansas',\n",
       " 'Liberty',\n",
       " 'Louisiana State',\n",
       " 'Loyola (IL)',\n",
       " 'Maryland',\n",
       " 'Michigan State',\n",
       " 'Michigan',\n",
       " 'Missouri',\n",
       " 'Morehead State',\n",
       " \"Mount St. Mary's\",\n",
       " 'Norfolk State',\n",
       " 'North Carolina-Greensboro',\n",
       " 'North Carolina',\n",
       " 'North Texas',\n",
       " 'Ohio State',\n",
       " 'Ohio',\n",
       " 'Oklahoma State',\n",
       " 'Oklahoma',\n",
       " 'Oral Roberts',\n",
       " 'Oregon State',\n",
       " 'Oregon',\n",
       " 'Purdue',\n",
       " 'Rutgers',\n",
       " 'San Diego State',\n",
       " 'Southern California',\n",
       " 'St. Bonaventure',\n",
       " 'Syracuse',\n",
       " 'Tennessee',\n",
       " 'Texas Southern',\n",
       " 'Texas Tech',\n",
       " 'Texas',\n",
       " 'UCLA',\n",
       " 'Utah State',\n",
       " 'Villanova',\n",
       " 'Virginia Commonwealth',\n",
       " 'Virginia Tech',\n",
       " 'Virginia',\n",
       " 'West Virginia',\n",
       " 'Wichita State',\n",
       " 'Winthrop',\n",
       " 'Wisconsin']"
      ]
     },
     "execution_count": 80,
     "metadata": {},
     "output_type": "execute_result"
    }
   ],
   "source": [
    "soup = BeautifulSoup(requests.get(\"https://www.sports-reference.com/cbb/seasons/2021-school-stats.html\").content)\n",
    "names = soup.find_all(\"td\", attrs={\"data-stat\":\"school_name\"})\n",
    "tourney_teams = [n.text.replace(\"NCAA\", \"\").strip() for n in names if \"NCAA\" in n.text]\n",
    "tourney_teams"
   ]
  },
  {
   "cell_type": "code",
   "execution_count": 71,
   "metadata": {},
   "outputs": [],
   "source": [
    "drop_cols = [\"Unnamed: 8\", \"Unnamed: 11\",  \"Unnamed: 14\",  \"Unnamed: 17\", \"Unnamed: 20\", \"W.2\", \"L.2\", \"W.3\", \"L.3\"]\n",
    "rename_dict = {'W.1':\"conference W\", 'L.1':\"conference L\", \"Tm.\":\"Team Points\", \"Opp.\":\"Opponent Points\"}\n",
    "\n",
    "def process_df(file):\n",
    "    df = pd.read_csv(file)\n",
    "    df = df.drop(columns=drop_cols, axis=1).rename(columns=rename_dict)\n",
    "    \n",
    "    df[\"School\"] = df[\"School\"].apply(lambda n : n.replace(\"NCAA\", '').strip())\n",
    "    \n",
    "    df = df[df[\"School\"].isin(tourney_teams)]\n",
    "    \n",
    "    return df"
   ]
  },
  {
   "cell_type": "code",
   "execution_count": 72,
   "metadata": {},
   "outputs": [],
   "source": [
    "basic_df = process_df(basic_file)\n",
    "opp_basic_df = process_df(opp_basic_file)\n",
    "advanced_df = process_df(advanced_file)\n",
    "opp_advanced_df = process_df(opp_advanced_file)\n"
   ]
  },
  {
   "cell_type": "code",
   "execution_count": 75,
   "metadata": {
    "scrolled": false
   },
   "outputs": [],
   "source": [
    "adv_stats = list(advanced_df.columns.difference(basic_df.columns))\n",
    "adv_stats.append(\"School\")\n",
    "\n",
    "stats_df = pd.merge(basic_df, advanced_df[adv_stats], on=\"School\")\n",
    "opp_stats_df = pd.merge(opp_basic_df, opp_advanced_df[adv_stats], on=\"School\")\n"
   ]
  },
  {
   "cell_type": "code",
   "execution_count": null,
   "metadata": {},
   "outputs": [],
   "source": []
  },
  {
   "cell_type": "code",
   "execution_count": 76,
   "metadata": {},
   "outputs": [],
   "source": [
    "stats_df.to_excel(\"stats.xlsx\")\n",
    "opp_stats_df.to_excel(\"opp_stats.xlsx\")"
   ]
  },
  {
   "cell_type": "code",
   "execution_count": null,
   "metadata": {},
   "outputs": [],
   "source": []
  },
  {
   "cell_type": "code",
   "execution_count": 89,
   "metadata": {},
   "outputs": [],
   "source": [
    "matchups =  [\n",
    "    [\"Texas Southern\",\"Mount St. Mary's\"],\n",
    "    [\"UCLA\",\"Michigan State\"],\n",
    "    [\"Michigan\",\"\"],\n",
    "    [\"Louisiana State\", \"St. Bonaventure\"],\n",
    "    [\"Colorado\",\"Georgetown\"],\n",
    "    [\"Florida State\",\"North Carolina-Greensboro\"],\n",
    "    [\"Brigham Young\",\"\"],\n",
    "    [\"Texas\",\"Abilene Christian\"],\n",
    "    [\"Connecticut\",\"Maryland\"],\n",
    "    [\"Alabama\",\"Iona\"],\n",
    "    [\"Illinois\",\"Drexel\"],\n",
    "    [\"Loyola (IL)\",\"Georgia Tech\"],\n",
    "    [\"Tennessee\",\"Oregon State\"],\n",
    "    [\"Oklahoma State\",\"Liberty\"],\n",
    "    [\"San Diego State\",\"Syracuse\"],\n",
    "    [\"West Virginia\",\"Morehead State\"],\n",
    "    [\"Clemson\",\"Rutgers\"],\n",
    "    [\"Houston\",\"Cleveland State\"],\n",
    "    [\"Baylor\",\"Hartford\"],\n",
    "    [\"North Carolina\",\"Wisconsin\"],\n",
    "    [\"Villanova\",\"Winthrop\"],\n",
    "    [\"Purdue\",\"North Texas\"],\n",
    "    [\"Texas Tech\",\"Utah State\"],\n",
    "    [\"Arkansas\",\"Colgate\"],\n",
    "    [\"Florida\",\"Virginia Tech\"],\n",
    "    [\"Ohio State\",\"Oral Roberts\"],\n",
    "    [\"Gonzaga\",\"\"],\n",
    "    [\"Oklahoma\",\"Missouri\"],\n",
    "    [\"Creighton\",\"UC-Santa Barbara\"],\n",
    "    [\"Virginia\",\"Ohio\"],\n",
    "    [\"Southern California\",\"\"],\n",
    "    [\"Kansas\",\"Eastern Washington\"],\n",
    "    [\"Oregon\",\"Virginia Commonwealth\"],\n",
    "    [\"Iowa\",\"Grand Canyon\"]\n",
    "]"
   ]
  },
  {
   "cell_type": "code",
   "execution_count": 90,
   "metadata": {},
   "outputs": [
    {
     "name": "stdout",
     "output_type": "stream",
     "text": [
      "\n",
      "\n",
      "\n",
      "\n"
     ]
    }
   ],
   "source": [
    "\n",
    "for m in matchups:\n",
    "    if(m[0] not in tourney_teams):\n",
    "        print(m[0])\n",
    "    if(m[1] not in tourney_teams):\n",
    "        print(m[1])"
   ]
  },
  {
   "cell_type": "code",
   "execution_count": 91,
   "metadata": {},
   "outputs": [],
   "source": [
    "df1 = pd.DataFrame()\n",
    "df2 = pd.DataFrame()\n",
    "\n",
    "for m in matchups:\n",
    "    t1 = m[0]\n",
    "    t2 = m[1]\n",
    "    \n",
    "    if(t1 == \"\" or t2 ==\"\"):\n",
    "        continue\n",
    "    \n",
    "    t1_stats = stats_df[stats_df[\"School\"] == t1]\n",
    "    t1_opps = opp_stats_df[opp_stats_df[\"School\"] == t1]\n",
    "    t2_stats = stats_df[stats_df[\"School\"] == t2]\n",
    "    t2_opps = opp_stats_df[opp_stats_df[\"School\"] == t2]\n",
    "    \n",
    "    df1 = df1.append(t1_stats)\n",
    "    df1 = df1.append(t2_opps)\n",
    "    df2 = df2.append(t2_stats)\n",
    "    df2 = df2.append(t1_opps)\n",
    "    \n",
    "df1.to_excel(\"df1.xlsx\")\n",
    "df2.to_excel(\"df2.xlsx\")\n",
    "    "
   ]
  }
 ],
 "metadata": {
  "kernelspec": {
   "display_name": "Python 3",
   "language": "python",
   "name": "python3"
  },
  "language_info": {
   "codemirror_mode": {
    "name": "ipython",
    "version": 3
   },
   "file_extension": ".py",
   "mimetype": "text/x-python",
   "name": "python",
   "nbconvert_exporter": "python",
   "pygments_lexer": "ipython3",
   "version": "3.6.4"
  }
 },
 "nbformat": 4,
 "nbformat_minor": 2
}
