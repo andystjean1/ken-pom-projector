{
 "cells": [
  {
   "cell_type": "code",
   "execution_count": 3,
   "metadata": {
    "scrolled": true
   },
   "outputs": [],
   "source": [
    "from scraper import scrape_ken_pom\n",
    "from bs4 import BeautifulSoup\n",
    "import pandas as pd\n",
    "import requests\n",
    "from selenium import webdriver\n",
    "from webdriver_manager.chrome import ChromeDriverManager\n",
    "import time\n",
    "import statistics\n",
    "\n",
    "from projector import project_score_advanced\n",
    "from team import Team\n",
    "from game import Game\n",
    "\n",
    "\n",
    "kenpom_df = scrape_ken_pom()\n"
   ]
  },
  {
   "cell_type": "code",
   "execution_count": 15,
   "metadata": {},
   "outputs": [
    {
     "name": "stdout",
     "output_type": "stream",
     "text": [
      "99.58403361344538\n",
      "99.33831775700935\n"
     ]
    }
   ],
   "source": [
    " kenpom_df.head()\n",
    "    \n",
    "all_teams_avg = kenpom_df[\"AdjO\"].mean()\n",
    "\n",
    "active = kenpom_df[kenpom_df[\"W-L\"] != \"0-0\"]\n",
    "active_avg = active[\"AdjO\"].mean()\n",
    "\n",
    "print(all_teams_avg)\n",
    "print(active_avg)"
   ]
  },
  {
   "cell_type": "code",
   "execution_count": 12,
   "metadata": {},
   "outputs": [
    {
     "name": "stderr",
     "output_type": "stream",
     "text": [
      "[WDM] - Current google-chrome version is 87.0.4280\n",
      "[WDM] - Get LATEST driver version for 87.0.4280\n",
      "[WDM] - Driver [/Users/homefolder/.wdm/drivers/chromedriver/mac64/87.0.4280.88/chromedriver] found in cache\n"
     ]
    },
    {
     "name": "stdout",
     "output_type": "stream",
     "text": [
      " \n"
     ]
    }
   ],
   "source": [
    "# calculate the average tempo from kenpom but first get rid of teams that havent played yet\n",
    "# drop all rows with W-L == 0-0\n",
    "#active_kenpom_df = kenpom_df[kenpom_df[\"W-L\"] != \"0-0\"]\n",
    "tr_possessions_url = \"https://www.teamrankings.com/ncaa-basketball/stat/points-per-game\" #omitting the data parameter will get the page for the current date\n",
    "\n",
    "driver = webdriver.Chrome(ChromeDriverManager().install())\n",
    "driver.get(tr_possessions_url)\n",
    "time.sleep(5)\n",
    "soup = BeautifulSoup(driver.page_source, 'html.parser')\n",
    "driver.close()\n",
    "\n",
    "table = soup.find('table', attrs={\"id\":\"DataTables_Table_0\"})\n",
    "tbody = table.find('tbody')\n",
    "rows = tbody.find_all('tr')\n",
    "\n",
    "ppg_data = [row.find_all('td')[2].text for row in rows]\n",
    "ppg = [float(ppg) for ppg in ppg_data if ppg != \"--\"]\n",
    "\n"
   ]
  },
  {
   "cell_type": "code",
   "execution_count": 13,
   "metadata": {},
   "outputs": [
    {
     "name": "stdout",
     "output_type": "stream",
     "text": [
      "71.2524115755627\n"
     ]
    }
   ],
   "source": [
    "print(statistics.mean(ppg))"
   ]
  },
  {
   "cell_type": "code",
   "execution_count": 9,
   "metadata": {},
   "outputs": [
    {
     "data": {
      "text/plain": [
       "Rk         NaN\n",
       "Team      Duke\n",
       "Conf       NaN\n",
       "W-L        NaN\n",
       "AdjEM      NaN\n",
       "AdjO     115.4\n",
       "AdjD      80.7\n",
       "AdjT      71.5\n",
       "Luck       NaN\n",
       "AdjEM      NaN\n",
       "OppO       NaN\n",
       "OppD       NaN\n",
       "AdjEM      NaN\n",
       "Name: 0, dtype: object"
      ]
     },
     "execution_count": 9,
     "metadata": {},
     "output_type": "execute_result"
    }
   ],
   "source": [
    "#test the project score advanced method\n",
    "\n",
    "test_df = pd.DataFrame(columns=kenpom_df.columns)\n",
    "\n",
    "duke_dict = {\n",
    "    \"Team\":\"Duke\",\n",
    "    \"AdjO\":115.4,\n",
    "    \"AdjD\":80.7,\n",
    "    \"AdjT\":71.5\n",
    "}\n",
    "\n",
    "unc_dict = {\n",
    "    \"Team\":\"UNC\",\n",
    "    \"AdjO\":119.8,\n",
    "    \"AdjD\":87.6,\n",
    "    \"AdjT\":76.3\n",
    "}\n",
    "\n",
    "\n",
    "test_df = test_df.append(duke_dict, ignore_index=True)\n",
    "test_df = test_df.append(unc_dict, ignore_index=True)\n",
    "\n",
    "test_df.iloc[0]"
   ]
  }
 ],
 "metadata": {
  "kernelspec": {
   "display_name": "Python 3",
   "language": "python",
   "name": "python3"
  }
 },
 "nbformat": 4,
 "nbformat_minor": 4
}
